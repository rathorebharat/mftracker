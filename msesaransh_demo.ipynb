{
  "nbformat": 4,
  "nbformat_minor": 0,
  "metadata": {
    "colab": {
      "provenance": [],
      "include_colab_link": true
    },
    "kernelspec": {
      "name": "python3",
      "display_name": "Python 3"
    },
    "language_info": {
      "name": "python"
    }
  },
  "cells": [
    {
      "cell_type": "markdown",
      "metadata": {
        "id": "view-in-github",
        "colab_type": "text"
      },
      "source": [
        "<a href=\"https://colab.research.google.com/github/rathorebharat/mftracker/blob/main/msesaransh_demo.ipynb\" target=\"_parent\"><img src=\"https://colab.research.google.com/assets/colab-badge.svg\" alt=\"Open In Colab\"/></a>"
      ]
    },
    {
      "cell_type": "code",
      "execution_count": null,
      "metadata": {
        "colab": {
          "base_uri": "https://localhost:8080/"
        },
        "id": "HR_Onu02kaUr",
        "outputId": "ca3681d6-a28c-4799-a9e1-6c654719d3f6"
      },
      "outputs": [
        {
          "output_type": "stream",
          "name": "stdout",
          "text": [
            "Collecting mftool==2.8\n",
            "  Downloading mftool-2.8.tar.gz (112 kB)\n",
            "\u001b[2K     \u001b[90m━━━━━━━━━━━━━━━━━━━━━━━━━━━━━━━━━━━━━━━━\u001b[0m \u001b[32m112.2/112.2 kB\u001b[0m \u001b[31m2.2 MB/s\u001b[0m eta \u001b[36m0:00:00\u001b[0m\n",
            "\u001b[?25h  Preparing metadata (setup.py) ... \u001b[?25l\u001b[?25hdone\n",
            "Requirement already satisfied: requests in /usr/local/lib/python3.10/dist-packages (from mftool==2.8) (2.32.3)\n",
            "Collecting bs4 (from mftool==2.8)\n",
            "  Downloading bs4-0.0.2-py2.py3-none-any.whl.metadata (411 bytes)\n",
            "Requirement already satisfied: httpx in /usr/local/lib/python3.10/dist-packages (from mftool==2.8) (0.27.2)\n",
            "Requirement already satisfied: pandas in /usr/local/lib/python3.10/dist-packages (from mftool==2.8) (2.2.2)\n",
            "Requirement already satisfied: yfinance in /usr/local/lib/python3.10/dist-packages (from mftool==2.8) (0.2.48)\n",
            "Requirement already satisfied: Deprecated in /usr/local/lib/python3.10/dist-packages (from mftool==2.8) (1.2.14)\n",
            "Requirement already satisfied: beautifulsoup4 in /usr/local/lib/python3.10/dist-packages (from bs4->mftool==2.8) (4.12.3)\n",
            "Requirement already satisfied: wrapt<2,>=1.10 in /usr/local/lib/python3.10/dist-packages (from Deprecated->mftool==2.8) (1.16.0)\n",
            "Requirement already satisfied: anyio in /usr/local/lib/python3.10/dist-packages (from httpx->mftool==2.8) (3.7.1)\n",
            "Requirement already satisfied: certifi in /usr/local/lib/python3.10/dist-packages (from httpx->mftool==2.8) (2024.8.30)\n",
            "Requirement already satisfied: httpcore==1.* in /usr/local/lib/python3.10/dist-packages (from httpx->mftool==2.8) (1.0.6)\n",
            "Requirement already satisfied: idna in /usr/local/lib/python3.10/dist-packages (from httpx->mftool==2.8) (3.10)\n",
            "Requirement already satisfied: sniffio in /usr/local/lib/python3.10/dist-packages (from httpx->mftool==2.8) (1.3.1)\n",
            "Requirement already satisfied: h11<0.15,>=0.13 in /usr/local/lib/python3.10/dist-packages (from httpcore==1.*->httpx->mftool==2.8) (0.14.0)\n",
            "Requirement already satisfied: numpy>=1.22.4 in /usr/local/lib/python3.10/dist-packages (from pandas->mftool==2.8) (1.26.4)\n",
            "Requirement already satisfied: python-dateutil>=2.8.2 in /usr/local/lib/python3.10/dist-packages (from pandas->mftool==2.8) (2.8.2)\n",
            "Requirement already satisfied: pytz>=2020.1 in /usr/local/lib/python3.10/dist-packages (from pandas->mftool==2.8) (2024.2)\n",
            "Requirement already satisfied: tzdata>=2022.7 in /usr/local/lib/python3.10/dist-packages (from pandas->mftool==2.8) (2024.2)\n",
            "Requirement already satisfied: charset-normalizer<4,>=2 in /usr/local/lib/python3.10/dist-packages (from requests->mftool==2.8) (3.4.0)\n",
            "Requirement already satisfied: urllib3<3,>=1.21.1 in /usr/local/lib/python3.10/dist-packages (from requests->mftool==2.8) (2.2.3)\n",
            "Requirement already satisfied: multitasking>=0.0.7 in /usr/local/lib/python3.10/dist-packages (from yfinance->mftool==2.8) (0.0.11)\n",
            "Requirement already satisfied: lxml>=4.9.1 in /usr/local/lib/python3.10/dist-packages (from yfinance->mftool==2.8) (5.3.0)\n",
            "Requirement already satisfied: platformdirs>=2.0.0 in /usr/local/lib/python3.10/dist-packages (from yfinance->mftool==2.8) (4.3.6)\n",
            "Requirement already satisfied: frozendict>=2.3.4 in /usr/local/lib/python3.10/dist-packages (from yfinance->mftool==2.8) (2.4.6)\n",
            "Requirement already satisfied: peewee>=3.16.2 in /usr/local/lib/python3.10/dist-packages (from yfinance->mftool==2.8) (3.17.7)\n",
            "Requirement already satisfied: html5lib>=1.1 in /usr/local/lib/python3.10/dist-packages (from yfinance->mftool==2.8) (1.1)\n",
            "Requirement already satisfied: soupsieve>1.2 in /usr/local/lib/python3.10/dist-packages (from beautifulsoup4->bs4->mftool==2.8) (2.6)\n",
            "Requirement already satisfied: six>=1.9 in /usr/local/lib/python3.10/dist-packages (from html5lib>=1.1->yfinance->mftool==2.8) (1.16.0)\n",
            "Requirement already satisfied: webencodings in /usr/local/lib/python3.10/dist-packages (from html5lib>=1.1->yfinance->mftool==2.8) (0.5.1)\n",
            "Requirement already satisfied: exceptiongroup in /usr/local/lib/python3.10/dist-packages (from anyio->httpx->mftool==2.8) (1.2.2)\n",
            "Downloading bs4-0.0.2-py2.py3-none-any.whl (1.2 kB)\n",
            "Building wheels for collected packages: mftool\n",
            "  Building wheel for mftool (setup.py) ... \u001b[?25l\u001b[?25hdone\n",
            "  Created wheel for mftool: filename=mftool-2.8-py3-none-any.whl size=116617 sha256=979e33567075a05a42dd01561e9e81b50ea0d0f05bb0b9b9d558d3454930fe9b\n",
            "  Stored in directory: /root/.cache/pip/wheels/b6/b3/af/5751d41db5452227e221aaca7f1ec823caa51ae7d40fb9dbde\n",
            "Successfully built mftool\n",
            "Installing collected packages: bs4, mftool\n",
            "Successfully installed bs4-0.0.2 mftool-2.8\n"
          ]
        }
      ],
      "source": [
        "# To install the mftool library\n",
        "!pip install mftool==2.8"
      ]
    },
    {
      "cell_type": "code",
      "source": [
        "!pip install nsepy==0.8"
      ],
      "metadata": {
        "colab": {
          "base_uri": "https://localhost:8080/"
        },
        "id": "DDHMxHsYgWHm",
        "outputId": "f5d31416-1b41-4c6c-da43-e184c4a48772"
      },
      "execution_count": null,
      "outputs": [
        {
          "output_type": "stream",
          "name": "stdout",
          "text": [
            "Collecting nsepy==0.8\n",
            "  Downloading nsepy-0.8.tar.gz (33 kB)\n",
            "  Preparing metadata (setup.py) ... \u001b[?25l\u001b[?25hdone\n",
            "Requirement already satisfied: beautifulsoup4 in /usr/local/lib/python3.10/dist-packages (from nsepy==0.8) (4.12.3)\n",
            "Requirement already satisfied: requests in /usr/local/lib/python3.10/dist-packages (from nsepy==0.8) (2.32.3)\n",
            "Requirement already satisfied: numpy in /usr/local/lib/python3.10/dist-packages (from nsepy==0.8) (1.26.4)\n",
            "Requirement already satisfied: pandas in /usr/local/lib/python3.10/dist-packages (from nsepy==0.8) (2.2.2)\n",
            "Requirement already satisfied: six in /usr/local/lib/python3.10/dist-packages (from nsepy==0.8) (1.16.0)\n",
            "Requirement already satisfied: click in /usr/local/lib/python3.10/dist-packages (from nsepy==0.8) (8.1.7)\n",
            "Requirement already satisfied: lxml in /usr/local/lib/python3.10/dist-packages (from nsepy==0.8) (5.3.0)\n",
            "Requirement already satisfied: soupsieve>1.2 in /usr/local/lib/python3.10/dist-packages (from beautifulsoup4->nsepy==0.8) (2.6)\n",
            "Requirement already satisfied: python-dateutil>=2.8.2 in /usr/local/lib/python3.10/dist-packages (from pandas->nsepy==0.8) (2.8.2)\n",
            "Requirement already satisfied: pytz>=2020.1 in /usr/local/lib/python3.10/dist-packages (from pandas->nsepy==0.8) (2024.2)\n",
            "Requirement already satisfied: tzdata>=2022.7 in /usr/local/lib/python3.10/dist-packages (from pandas->nsepy==0.8) (2024.2)\n",
            "Requirement already satisfied: charset-normalizer<4,>=2 in /usr/local/lib/python3.10/dist-packages (from requests->nsepy==0.8) (3.4.0)\n",
            "Requirement already satisfied: idna<4,>=2.5 in /usr/local/lib/python3.10/dist-packages (from requests->nsepy==0.8) (3.10)\n",
            "Requirement already satisfied: urllib3<3,>=1.21.1 in /usr/local/lib/python3.10/dist-packages (from requests->nsepy==0.8) (2.2.3)\n",
            "Requirement already satisfied: certifi>=2017.4.17 in /usr/local/lib/python3.10/dist-packages (from requests->nsepy==0.8) (2024.8.30)\n",
            "Building wheels for collected packages: nsepy\n",
            "  Building wheel for nsepy (setup.py) ... \u001b[?25l\u001b[?25hdone\n",
            "  Created wheel for nsepy: filename=nsepy-0.8-py3-none-any.whl size=36056 sha256=2d3b2d57cb95c0999f47ae72ba24a326eb08c03bc131410d3b0dd3a01d30b98a\n",
            "  Stored in directory: /root/.cache/pip/wheels/4c/87/cb/acaf83f625e5fc73e1fe6e2a8e97680c74cd72391850ef5a86\n",
            "Successfully built nsepy\n",
            "Installing collected packages: nsepy\n",
            "Successfully installed nsepy-0.8\n"
          ]
        }
      ]
    },
    {
      "cell_type": "code",
      "source": [
        "!pip install openpyxl==3.1.2\n",
        "!pip install --upgrade google-api-python-client google-auth-httplib2 google-auth-oauthlib gspread"
      ],
      "metadata": {
        "colab": {
          "base_uri": "https://localhost:8080/",
          "height": 1000
        },
        "id": "InvEI1xEov-8",
        "outputId": "f7773464-8696-4e56-ddac-c8a3d08842b3"
      },
      "execution_count": 18,
      "outputs": [
        {
          "output_type": "stream",
          "name": "stdout",
          "text": [
            "Collecting openpyxl==3.1.2\n",
            "  Downloading openpyxl-3.1.2-py2.py3-none-any.whl.metadata (2.5 kB)\n",
            "Requirement already satisfied: et-xmlfile in /usr/local/lib/python3.10/dist-packages (from openpyxl==3.1.2) (2.0.0)\n",
            "Downloading openpyxl-3.1.2-py2.py3-none-any.whl (249 kB)\n",
            "\u001b[?25l   \u001b[90m━━━━━━━━━━━━━━━━━━━━━━━━━━━━━━━━━━━━━━━━\u001b[0m \u001b[32m0.0/250.0 kB\u001b[0m \u001b[31m?\u001b[0m eta \u001b[36m-:--:--\u001b[0m\r\u001b[2K   \u001b[90m━━━━━━━━━━━━━━━━━━━━━━━━━━━━━━━━━━━━━━━━\u001b[0m \u001b[32m250.0/250.0 kB\u001b[0m \u001b[31m12.5 MB/s\u001b[0m eta \u001b[36m0:00:00\u001b[0m\n",
            "\u001b[?25hInstalling collected packages: openpyxl\n",
            "  Attempting uninstall: openpyxl\n",
            "    Found existing installation: openpyxl 3.1.5\n",
            "    Uninstalling openpyxl-3.1.5:\n",
            "      Successfully uninstalled openpyxl-3.1.5\n",
            "Successfully installed openpyxl-3.1.2\n"
          ]
        },
        {
          "output_type": "display_data",
          "data": {
            "application/vnd.colab-display-data+json": {
              "pip_warning": {
                "packages": [
                  "openpyxl"
                ]
              },
              "id": "2933dc80f2384528add5d881e74dd824"
            }
          },
          "metadata": {}
        },
        {
          "output_type": "stream",
          "name": "stdout",
          "text": [
            "Requirement already satisfied: google-api-python-client in /usr/local/lib/python3.10/dist-packages (2.137.0)\n",
            "Collecting google-api-python-client\n",
            "  Downloading google_api_python_client-2.151.0-py2.py3-none-any.whl.metadata (6.7 kB)\n",
            "Requirement already satisfied: google-auth-httplib2 in /usr/local/lib/python3.10/dist-packages (0.2.0)\n",
            "Requirement already satisfied: google-auth-oauthlib in /usr/local/lib/python3.10/dist-packages (1.2.1)\n",
            "Requirement already satisfied: gspread in /usr/local/lib/python3.10/dist-packages (6.0.2)\n",
            "Collecting gspread\n",
            "  Downloading gspread-6.1.4-py3-none-any.whl.metadata (11 kB)\n",
            "Requirement already satisfied: httplib2<1.dev0,>=0.19.0 in /usr/local/lib/python3.10/dist-packages (from google-api-python-client) (0.22.0)\n",
            "Requirement already satisfied: google-auth!=2.24.0,!=2.25.0,<3.0.0.dev0,>=1.32.0 in /usr/local/lib/python3.10/dist-packages (from google-api-python-client) (2.27.0)\n",
            "Requirement already satisfied: google-api-core!=2.0.*,!=2.1.*,!=2.2.*,!=2.3.0,<3.0.0.dev0,>=1.31.5 in /usr/local/lib/python3.10/dist-packages (from google-api-python-client) (2.19.2)\n",
            "Requirement already satisfied: uritemplate<5,>=3.0.1 in /usr/local/lib/python3.10/dist-packages (from google-api-python-client) (4.1.1)\n",
            "Requirement already satisfied: requests-oauthlib>=0.7.0 in /usr/local/lib/python3.10/dist-packages (from google-auth-oauthlib) (1.3.1)\n",
            "Requirement already satisfied: googleapis-common-protos<2.0.dev0,>=1.56.2 in /usr/local/lib/python3.10/dist-packages (from google-api-core!=2.0.*,!=2.1.*,!=2.2.*,!=2.3.0,<3.0.0.dev0,>=1.31.5->google-api-python-client) (1.65.0)\n",
            "Requirement already satisfied: protobuf!=3.20.0,!=3.20.1,!=4.21.0,!=4.21.1,!=4.21.2,!=4.21.3,!=4.21.4,!=4.21.5,<6.0.0.dev0,>=3.19.5 in /usr/local/lib/python3.10/dist-packages (from google-api-core!=2.0.*,!=2.1.*,!=2.2.*,!=2.3.0,<3.0.0.dev0,>=1.31.5->google-api-python-client) (3.20.3)\n",
            "Requirement already satisfied: proto-plus<2.0.0dev,>=1.22.3 in /usr/local/lib/python3.10/dist-packages (from google-api-core!=2.0.*,!=2.1.*,!=2.2.*,!=2.3.0,<3.0.0.dev0,>=1.31.5->google-api-python-client) (1.25.0)\n",
            "Requirement already satisfied: requests<3.0.0.dev0,>=2.18.0 in /usr/local/lib/python3.10/dist-packages (from google-api-core!=2.0.*,!=2.1.*,!=2.2.*,!=2.3.0,<3.0.0.dev0,>=1.31.5->google-api-python-client) (2.32.3)\n",
            "Requirement already satisfied: cachetools<6.0,>=2.0.0 in /usr/local/lib/python3.10/dist-packages (from google-auth!=2.24.0,!=2.25.0,<3.0.0.dev0,>=1.32.0->google-api-python-client) (5.5.0)\n",
            "Requirement already satisfied: pyasn1-modules>=0.2.1 in /usr/local/lib/python3.10/dist-packages (from google-auth!=2.24.0,!=2.25.0,<3.0.0.dev0,>=1.32.0->google-api-python-client) (0.4.1)\n",
            "Requirement already satisfied: rsa<5,>=3.1.4 in /usr/local/lib/python3.10/dist-packages (from google-auth!=2.24.0,!=2.25.0,<3.0.0.dev0,>=1.32.0->google-api-python-client) (4.9)\n",
            "Requirement already satisfied: pyparsing!=3.0.0,!=3.0.1,!=3.0.2,!=3.0.3,<4,>=2.4.2 in /usr/local/lib/python3.10/dist-packages (from httplib2<1.dev0,>=0.19.0->google-api-python-client) (3.2.0)\n",
            "Requirement already satisfied: oauthlib>=3.0.0 in /usr/local/lib/python3.10/dist-packages (from requests-oauthlib>=0.7.0->google-auth-oauthlib) (3.2.2)\n",
            "Requirement already satisfied: pyasn1<0.7.0,>=0.4.6 in /usr/local/lib/python3.10/dist-packages (from pyasn1-modules>=0.2.1->google-auth!=2.24.0,!=2.25.0,<3.0.0.dev0,>=1.32.0->google-api-python-client) (0.6.1)\n",
            "Requirement already satisfied: charset-normalizer<4,>=2 in /usr/local/lib/python3.10/dist-packages (from requests<3.0.0.dev0,>=2.18.0->google-api-core!=2.0.*,!=2.1.*,!=2.2.*,!=2.3.0,<3.0.0.dev0,>=1.31.5->google-api-python-client) (3.4.0)\n",
            "Requirement already satisfied: idna<4,>=2.5 in /usr/local/lib/python3.10/dist-packages (from requests<3.0.0.dev0,>=2.18.0->google-api-core!=2.0.*,!=2.1.*,!=2.2.*,!=2.3.0,<3.0.0.dev0,>=1.31.5->google-api-python-client) (3.10)\n",
            "Requirement already satisfied: urllib3<3,>=1.21.1 in /usr/local/lib/python3.10/dist-packages (from requests<3.0.0.dev0,>=2.18.0->google-api-core!=2.0.*,!=2.1.*,!=2.2.*,!=2.3.0,<3.0.0.dev0,>=1.31.5->google-api-python-client) (2.2.3)\n",
            "Requirement already satisfied: certifi>=2017.4.17 in /usr/local/lib/python3.10/dist-packages (from requests<3.0.0.dev0,>=2.18.0->google-api-core!=2.0.*,!=2.1.*,!=2.2.*,!=2.3.0,<3.0.0.dev0,>=1.31.5->google-api-python-client) (2024.8.30)\n",
            "Downloading google_api_python_client-2.151.0-py2.py3-none-any.whl (12.5 MB)\n",
            "\u001b[2K   \u001b[90m━━━━━━━━━━━━━━━━━━━━━━━━━━━━━━━━━━━━━━━━\u001b[0m \u001b[32m12.5/12.5 MB\u001b[0m \u001b[31m79.9 MB/s\u001b[0m eta \u001b[36m0:00:00\u001b[0m\n",
            "\u001b[?25hDownloading gspread-6.1.4-py3-none-any.whl (57 kB)\n",
            "\u001b[2K   \u001b[90m━━━━━━━━━━━━━━━━━━━━━━━━━━━━━━━━━━━━━━━━\u001b[0m \u001b[32m57.6/57.6 kB\u001b[0m \u001b[31m4.6 MB/s\u001b[0m eta \u001b[36m0:00:00\u001b[0m\n",
            "\u001b[?25hInstalling collected packages: gspread, google-api-python-client\n",
            "  Attempting uninstall: gspread\n",
            "    Found existing installation: gspread 6.0.2\n",
            "    Uninstalling gspread-6.0.2:\n",
            "      Successfully uninstalled gspread-6.0.2\n",
            "  Attempting uninstall: google-api-python-client\n",
            "    Found existing installation: google-api-python-client 2.137.0\n",
            "    Uninstalling google-api-python-client-2.137.0:\n",
            "      Successfully uninstalled google-api-python-client-2.137.0\n",
            "Successfully installed google-api-python-client-2.151.0 gspread-6.1.4\n"
          ]
        }
      ]
    },
    {
      "cell_type": "code",
      "source": [
        "# https://medium.com/@TejasEkawade/getting-and-analyzing-mutual-funds-in-python-c2d0feb09881\n",
        "\n",
        "# List of all mutual funds and their latest NAV\n",
        "# https://www.amfiindia.com/spages/NAVAll.txt\n",
        "# 148725;INF204KB19Z5;INF204KC1014;NIPPON INDIA NIFTY MIDCAP 150 INDEX FUND - DIRECT Plan - IDCW Option;25.3024;30-Aug-2024\n",
        "# 138528;INF223J01NF2;-;PGIM India Global Equity Opportunities Fund - Direct Plan - Growth;47.78;30-Aug-2024\n",
        "# 127042;INF247L01445;-;Motilal Oswal Midcap Fund-Direct Plan-Growth Option;115.7794;30-Aug-2024\n",
        "\n",
        "import requests, os\n",
        "search_string = '127073'  # Replace with the string to search for\n",
        "url = 'https://www.amfiindia.com/spages/NAVAll.txt'  # Replace with the actual URL\n",
        "response = requests.get(url)\n",
        "page_content = response.text\n",
        "for line in page_content.splitlines():\n",
        "    if search_string in line:\n",
        "        print(line)\n",
        "\n",
        "from google.colab import drive\n",
        "drive.mount('/content/drive')\n",
        "\n",
        "#for item in os.listdir('/content/drive/MyDrive'):\n",
        "#  print(item)\n",
        "\n",
        "from openpyxl import load_workbook\n",
        "\n",
        "# Provide the full path to the Excel file on the other user's Google Drive\n",
        "file_path = '/content/drive/MyDrive/msesaransh.xlsx'  # Replace with the actual path\n",
        "\n",
        "# Read the Excel workbook\n",
        "workbook = load_workbook(file_path)  # Replace with the actual file name\n",
        "\n",
        "# Select a worksheet by its name or index\n",
        "worksheet = workbook['mftrack']  # Replace with the actual sheet name\n",
        "\n",
        "# Access and modify cell values\n",
        "#cell_value = worksheet['A1'].value  # Read the value of cell A1\n",
        "#worksheet['A1'] = 'New Value'  # Update the value of cell A1\n",
        "for row in worksheet.iter_rows():\n",
        "  search_string = row[1].value\n",
        "  if search_string is not None:\n",
        "    for line in page_content.splitlines():\n",
        "      if str(search_string) in line:\n",
        "        print(line)\n",
        "        print(row[12].value)\n",
        "        row[12].value = line.split(';')[4]\n",
        "        print(row[12].value)\n",
        "for row in worksheet.iter_rows():\n",
        "  search_string = row[1].value\n",
        "  if search_string is not None:\n",
        "    print(row[13].value)\n",
        "# Save the changes back to other user's drive:\n",
        "workbook.save('/content/drive/MyDrive/msesaranshnew.xlsx')  # Overwrites the original file"
      ],
      "metadata": {
        "colab": {
          "base_uri": "https://localhost:8080/"
        },
        "id": "SSyMXI26k3GX",
        "outputId": "1be3cb3e-2558-4f6c-8ad2-4b084ba3812e"
      },
      "execution_count": 69,
      "outputs": [
        {
          "output_type": "stream",
          "name": "stdout",
          "text": [
            "127073;INF336L01HC7;-;HSBC Asia Pacific (Ex Japan) Dividend Yield Fund - Growth;22.6977;08-Nov-2024\n",
            "Drive already mounted at /content/drive; to attempt to forcibly remount, call drive.mount(\"/content/drive\", force_remount=True).\n",
            "119277;INF740K01OZ9;-;DSP World Gold Fund of Fund - Direct Plan - Growth;23.7469;08-Nov-2024\n",
            "23.6\n",
            "23.7469\n",
            "120620;INF109K012M7;-;ICICI Prudential Nifty 50 Index Fund - Direct Plan Cumulative Option;251.1803;08-Nov-2024\n",
            "288.41\n",
            "251.1803\n",
            "143341;INF789FC12T1;-;UTI Nifty Next 50 Index Fund - Direct Plan - Growth Option;25.6049;08-Nov-2024\n",
            "179.59\n",
            "25.6049\n",
            "119063;INF179K01WM1;-;HDFC Index Fund-NIFTY 50 Plan - Direct Plan;232.338;08-Nov-2024\n",
            "232.83\n",
            "232.338\n",
            "133516;INF209KA1YK0;-;Aditya Birla Sun Life Manufacturing Equity Fund - Direct Plan - Growth;35.86;08-Nov-2024\n",
            "None\n",
            "35.86\n",
            "148703;INF789F1AUT5;-;UTI Nifty 200 Momentum 30 Index Fund - Direct Plan - Growth Option;23.7092;08-Nov-2024\n",
            "None\n",
            "23.7092\n",
            "152430;INF179KC1IC4;-;HDFC NIFTY200 Momentum 30 Index Fund - Direct Plan;11.5493;08-Nov-2024\n",
            "11.52\n",
            "11.5493\n",
            "152417;INF200KB1126;-;SBI Energy Opportunities Fund - Direct Plan - Growth;10.7941;08-Nov-2024\n",
            "10.17\n",
            "10.7941\n",
            "120492;INF192K01CC7;-;JM Flexicap Fund (Direct) - Growth Option;117.2077;08-Nov-2024\n",
            "122.17\n",
            "117.2077\n",
            "142110;INF174V01507;-;Mahindra Manulife Mid Cap Fund - Direct Plan -Growth;37.2016;08-Nov-2024\n",
            "39.2\n",
            "37.2016\n",
            "141226;INF174V01341;-;Mahindra Manulife Multi Cap Fund - Direct Plan -Growth;39.7682;08-Nov-2024\n",
            "42.18\n",
            "39.7682\n",
            "120351;INF767K01GW5;-;LIC MF Infrastructure Fund-Direct Plan-Growth;56.9331;08-Nov-2024\n",
            "57.41\n",
            "56.9331\n",
            "120465;INF846K01DP8;-;Axis Bluechip Fund - Direct Plan - Growth;66.61;08-Nov-2024\n",
            "44.68\n",
            "66.61\n",
            "118834;INF769K01BI1;-;Mirae Asset Large & Midcap Fund - Direct Plan - Growth;163.202;08-Nov-2024\n",
            "90.627\n",
            "163.202\n",
            "120152;INF174K01KW6;-;Kotak Bluechip Fund - Growth - Direct;629.622;08-Nov-2024\n",
            "357.506\n",
            "629.622\n",
            "120505;INF846K01EH3;-;Axis Midcap Fund - Direct Plan - Growth;126.35;08-Nov-2024\n",
            "63.75\n",
            "126.35\n",
            "122639;INF879O01027;-;Parag Parikh Flexi Cap Fund - Direct Plan - Growth;86.7847;08-Nov-2024\n",
            "86.87\n",
            "86.7847\n",
            "145454;INF740KA1LG1;-;DSP Healthcare Fund - Direct Plan - Growth;45.288;08-Nov-2024\n",
            "22.056\n",
            "45.288\n",
            "143783;INF769K01ED6;-;Mirae Asset Healthcare Fund Direct Growth;42.443;08-Nov-2024\n",
            "22.548\n",
            "42.443\n",
            "147409;INF209KB1O25;-;Aditya Birla Sun Life Pharma and Healthcare Fund-Direct-Growth;33.93;08-Nov-2024\n",
            "33.92\n",
            "33.93\n",
            "120594;INF109K01Z48;-;ICICI Prudential Technology Fund - Direct Plan -  Growth;230.64;08-Nov-2024\n",
            "230.54\n",
            "230.64\n",
            "120578;INF200K01RV6;-;SBI TECHNOLOGY OPPORTUNITIES FUND - DIRECT PLAN - GROWTH;242.6122;08-Nov-2024\n",
            "243.48\n",
            "242.6122\n",
            "120728;INF789F01TU6;-;UTI Infrastructure Fund-Growth Option- Direct;147.1173;08-Nov-2024\n",
            "69.485\n",
            "147.1173\n",
            "119705;INF200K01SB6;-;SBI Magnum COMMA Fund - DIRECT PLAN - Growth;109.0411;08-Nov-2024\n",
            "110.74\n",
            "109.0411\n",
            "145552;INF247L01718;-;Motilal Oswal Nasdaq 100 Fund of Fund- Direct Plan Growth;37.2860;08-Nov-2024\n",
            "35.21\n",
            "37.2860\n",
            "127042;INF247L01445;-;Motilal Oswal Midcap Fund-Direct Plan-Growth Option;120.1020;08-Nov-2024\n",
            "120.99\n",
            "120.1020\n",
            "138528;INF223J01NF2;-;PGIM India Global Equity Opportunities Fund - Direct Plan - Growth;49.17;08-Nov-2024\n",
            "49.23\n",
            "49.17\n",
            "140243;INF843K01AU1;-;Edelweiss Greater China Equity Off-shore Fund - Direct Plan - Growth Option;43.684;08-Nov-2024\n",
            "44.12\n",
            "43.684\n",
            "103819;INF740K01094;-;DSP Equity Opportunities Fund-Regular Plan - Growth;606.382;08-Nov-2024\n",
            "611.43\n",
            "606.382\n",
            "119727;INF200K01RJ1;-;SBI FOCUSED EQUITY FUND - DIRECT PLAN -GROWTH;370.9352;08-Nov-2024\n",
            "372.26\n",
            "370.9352\n",
            "150597;INF769K01IS5;-;Mirae Asset Global X Artificial Intelligence & Technology ETF Fund of Fund - Direct Plan- Growth;19.272;08-Nov-2024\n",
            "18.66\n",
            "19.272\n",
            "148623;INF769K01GX9;-;Mirae Asset Banking and Financial Services Fund Direct Growth;19.948;08-Nov-2024\n",
            "20.15\n",
            "19.948\n",
            "112932;INF769K01101;-;Mirae Asset Large & Midcap Fund - Regular Plan - Growth;145.943;08-Nov-2024\n",
            "66.46\n",
            "145.943\n",
            "135781;INF769K01DM9;-;Mirae Asset ELSS Tax Saver Fund - Direct Plan - Growth;52.928;08-Nov-2024\n",
            "53.21\n",
            "52.928\n",
            "118825;INF769K01AX2;-;Mirae Asset Large Cap Fund - Direct Plan - Growth;121.611;08-Nov-2024\n",
            "122.2\n",
            "121.611\n",
            "125345;INF579M01621;-;360 ONE LIQUID FUND DIRECT PLAN  GROWTH;1937.2627;10-Nov-2024\n",
            "121.57\n",
            "1937.2627\n",
            "109445;INF109K01BU5;-;ICICI Prudential Banking and Financial Services Fund -  Growth;122.27;08-Nov-2024\n",
            "123\n",
            "122.27\n",
            "120244;INF109K013J1;-;ICICI Prudential Banking and Financial Services Fund - Direct Plan -  Growth;136.91;08-Nov-2024\n",
            "137.73\n",
            "136.91\n",
            "119544;INF209K01UN8;-;Aditya Birla Sun Life ELSS Tax Saver Fund - Growth - Direct Plan;64.45;08-Nov-2024\n",
            "64.95\n",
            "64.45\n",
            "118989;INF179K01XQ0;-;HDFC Mid-Cap Opportunities Fund - Growth Option - Direct Plan;204.985;08-Nov-2024\n",
            "206.33\n",
            "204.985\n",
            "119775;INF174K01LT0;-;Kotak Emerging Equity Scheme - Growth - Direct;151.019;08-Nov-2024\n",
            "152.32\n",
            "151.019\n",
            "130503;INF179KA1RW5;-;HDFC Small Cap Fund - Growth Option - Direct Plan;158.374;08-Nov-2024\n",
            "161.09\n",
            "158.374\n",
            "119556;INF209K01WN4;-;Aditya Birla Sun Life Small Cap Fund - Growth - Direct Plan;100.9513;08-Nov-2024\n",
            "102.18\n",
            "100.9513\n",
            "119069;INF179K01WL3;-;HDFC Income Fund - Growth Option - Direct Plan;61.0529;08-Nov-2024\n",
            "27.8\n",
            "61.0529\n",
            "(K) Market value\n",
            "=M3*I3\n",
            "=M4*I4\n",
            "=M5*I5\n",
            "=M6*I6\n",
            "None\n",
            "None\n",
            "=M13*I13\n",
            "=M20*I20\n",
            "=M21*I21\n",
            "=M22*I22\n",
            "=M23*I23\n",
            "=M24*I24\n",
            "=M30*I30\n",
            "=M31*I31\n",
            "=M32*I32\n",
            "=M33*I33\n",
            "=M34*I34\n",
            "=M35*I35\n",
            "=M36*I36\n",
            "=M37*I37\n",
            "=M38*I38\n",
            "=M41*I41\n",
            "=M43*I43\n",
            "=M44*I44\n",
            "=M46*I46\n",
            "=M47*I47\n",
            "=M48*I48\n",
            "=M49*I49\n",
            "=M50*I50\n",
            "=M52*I52\n",
            "=M53*I53\n",
            "=M55*I55\n",
            "=M56*I56\n",
            "=M57*I57\n",
            "=M59*I59\n",
            "=M60*I60\n",
            "=M61*I61\n",
            "=M62*I62\n",
            "=M63*I63\n",
            "=M64*I64\n",
            "=M65*I65\n",
            "=M66*I66\n",
            "=M67*I67\n",
            "=M68*I68\n",
            "=M69*I69\n"
          ]
        }
      ]
    },
    {
      "cell_type": "code",
      "source": [
        "!ls /content/drive/Shared\\ drives/"
      ],
      "metadata": {
        "colab": {
          "base_uri": "https://localhost:8080/"
        },
        "id": "hsIIhh_Notv0",
        "outputId": "9486e7d5-a98b-4821-8aae-c6db61500bfb"
      },
      "execution_count": 36,
      "outputs": [
        {
          "output_type": "stream",
          "name": "stdout",
          "text": [
            "ls: cannot access '/content/drive/Shared drives/': No such file or directory\n"
          ]
        }
      ]
    },
    {
      "cell_type": "code",
      "source": [],
      "metadata": {
        "id": "ZMy_4CGVl99c"
      },
      "execution_count": null,
      "outputs": []
    },
    {
      "cell_type": "code",
      "source": [],
      "metadata": {
        "id": "u-tXAbCfgY9_"
      },
      "execution_count": null,
      "outputs": []
    },
    {
      "cell_type": "code",
      "source": [],
      "metadata": {
        "id": "uu-qD__cgZEU"
      },
      "execution_count": null,
      "outputs": []
    },
    {
      "cell_type": "code",
      "source": [],
      "metadata": {
        "id": "-eL8-1AWgZKE"
      },
      "execution_count": null,
      "outputs": []
    }
  ]
}