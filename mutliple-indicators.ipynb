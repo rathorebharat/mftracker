{
  "nbformat": 4,
  "nbformat_minor": 0,
  "metadata": {
    "colab": {
      "provenance": [],
      "include_colab_link": true
    },
    "kernelspec": {
      "name": "python3",
      "display_name": "Python 3"
    },
    "language_info": {
      "name": "python"
    }
  },
  "cells": [
    {
      "cell_type": "markdown",
      "metadata": {
        "id": "view-in-github",
        "colab_type": "text"
      },
      "source": [
        "<a href=\"https://colab.research.google.com/github/rathorebharat/mftracker/blob/main/mutliple-indicators.ipynb\" target=\"_parent\"><img src=\"https://colab.research.google.com/assets/colab-badge.svg\" alt=\"Open In Colab\"/></a>"
      ]
    },
    {
      "cell_type": "code",
      "execution_count": 2,
      "metadata": {
        "colab": {
          "base_uri": "https://localhost:8080/"
        },
        "id": "HR_Onu02kaUr",
        "outputId": "0fd34469-fb91-4a4d-88e2-75bae5aece72"
      },
      "outputs": [
        {
          "output_type": "stream",
          "name": "stdout",
          "text": [
            "Collecting mftool==2.8\n",
            "  Downloading mftool-2.8.tar.gz (112 kB)\n",
            "\u001b[?25l     \u001b[90m━━━━━━━━━━━━━━━━━━━━━━━━━━━━━━━━━━━━━━━━\u001b[0m \u001b[32m0.0/112.2 kB\u001b[0m \u001b[31m?\u001b[0m eta \u001b[36m-:--:--\u001b[0m\r\u001b[2K     \u001b[90m━━━━━━━━━━━━━━━━━━━━━━━━━━━━━━━━━━━━━━━━\u001b[0m \u001b[32m112.2/112.2 kB\u001b[0m \u001b[31m3.1 MB/s\u001b[0m eta \u001b[36m0:00:00\u001b[0m\n",
            "\u001b[?25h  Preparing metadata (setup.py) ... \u001b[?25l\u001b[?25hdone\n",
            "Requirement already satisfied: requests in /usr/local/lib/python3.10/dist-packages (from mftool==2.8) (2.32.3)\n",
            "Collecting bs4 (from mftool==2.8)\n",
            "  Downloading bs4-0.0.2-py2.py3-none-any.whl.metadata (411 bytes)\n",
            "Requirement already satisfied: httpx in /usr/local/lib/python3.10/dist-packages (from mftool==2.8) (0.27.2)\n",
            "Requirement already satisfied: pandas in /usr/local/lib/python3.10/dist-packages (from mftool==2.8) (2.2.2)\n",
            "Requirement already satisfied: yfinance in /usr/local/lib/python3.10/dist-packages (from mftool==2.8) (0.2.48)\n",
            "Requirement already satisfied: Deprecated in /usr/local/lib/python3.10/dist-packages (from mftool==2.8) (1.2.14)\n",
            "Requirement already satisfied: beautifulsoup4 in /usr/local/lib/python3.10/dist-packages (from bs4->mftool==2.8) (4.12.3)\n",
            "Requirement already satisfied: wrapt<2,>=1.10 in /usr/local/lib/python3.10/dist-packages (from Deprecated->mftool==2.8) (1.16.0)\n",
            "Requirement already satisfied: anyio in /usr/local/lib/python3.10/dist-packages (from httpx->mftool==2.8) (3.7.1)\n",
            "Requirement already satisfied: certifi in /usr/local/lib/python3.10/dist-packages (from httpx->mftool==2.8) (2024.8.30)\n",
            "Requirement already satisfied: httpcore==1.* in /usr/local/lib/python3.10/dist-packages (from httpx->mftool==2.8) (1.0.6)\n",
            "Requirement already satisfied: idna in /usr/local/lib/python3.10/dist-packages (from httpx->mftool==2.8) (3.10)\n",
            "Requirement already satisfied: sniffio in /usr/local/lib/python3.10/dist-packages (from httpx->mftool==2.8) (1.3.1)\n",
            "Requirement already satisfied: h11<0.15,>=0.13 in /usr/local/lib/python3.10/dist-packages (from httpcore==1.*->httpx->mftool==2.8) (0.14.0)\n",
            "Requirement already satisfied: numpy>=1.22.4 in /usr/local/lib/python3.10/dist-packages (from pandas->mftool==2.8) (1.26.4)\n",
            "Requirement already satisfied: python-dateutil>=2.8.2 in /usr/local/lib/python3.10/dist-packages (from pandas->mftool==2.8) (2.8.2)\n",
            "Requirement already satisfied: pytz>=2020.1 in /usr/local/lib/python3.10/dist-packages (from pandas->mftool==2.8) (2024.2)\n",
            "Requirement already satisfied: tzdata>=2022.7 in /usr/local/lib/python3.10/dist-packages (from pandas->mftool==2.8) (2024.2)\n",
            "Requirement already satisfied: charset-normalizer<4,>=2 in /usr/local/lib/python3.10/dist-packages (from requests->mftool==2.8) (3.4.0)\n",
            "Requirement already satisfied: urllib3<3,>=1.21.1 in /usr/local/lib/python3.10/dist-packages (from requests->mftool==2.8) (2.2.3)\n",
            "Requirement already satisfied: multitasking>=0.0.7 in /usr/local/lib/python3.10/dist-packages (from yfinance->mftool==2.8) (0.0.11)\n",
            "Requirement already satisfied: lxml>=4.9.1 in /usr/local/lib/python3.10/dist-packages (from yfinance->mftool==2.8) (5.3.0)\n",
            "Requirement already satisfied: platformdirs>=2.0.0 in /usr/local/lib/python3.10/dist-packages (from yfinance->mftool==2.8) (4.3.6)\n",
            "Requirement already satisfied: frozendict>=2.3.4 in /usr/local/lib/python3.10/dist-packages (from yfinance->mftool==2.8) (2.4.6)\n",
            "Requirement already satisfied: peewee>=3.16.2 in /usr/local/lib/python3.10/dist-packages (from yfinance->mftool==2.8) (3.17.7)\n",
            "Requirement already satisfied: html5lib>=1.1 in /usr/local/lib/python3.10/dist-packages (from yfinance->mftool==2.8) (1.1)\n",
            "Requirement already satisfied: soupsieve>1.2 in /usr/local/lib/python3.10/dist-packages (from beautifulsoup4->bs4->mftool==2.8) (2.6)\n",
            "Requirement already satisfied: six>=1.9 in /usr/local/lib/python3.10/dist-packages (from html5lib>=1.1->yfinance->mftool==2.8) (1.16.0)\n",
            "Requirement already satisfied: webencodings in /usr/local/lib/python3.10/dist-packages (from html5lib>=1.1->yfinance->mftool==2.8) (0.5.1)\n",
            "Requirement already satisfied: exceptiongroup in /usr/local/lib/python3.10/dist-packages (from anyio->httpx->mftool==2.8) (1.2.2)\n",
            "Downloading bs4-0.0.2-py2.py3-none-any.whl (1.2 kB)\n",
            "Building wheels for collected packages: mftool\n",
            "  Building wheel for mftool (setup.py) ... \u001b[?25l\u001b[?25hdone\n",
            "  Created wheel for mftool: filename=mftool-2.8-py3-none-any.whl size=116617 sha256=81a774f7af7925278631d93ce26206c4536e79b0c55d2115540b2a42a8e1427f\n",
            "  Stored in directory: /root/.cache/pip/wheels/b6/b3/af/5751d41db5452227e221aaca7f1ec823caa51ae7d40fb9dbde\n",
            "Successfully built mftool\n",
            "Installing collected packages: bs4, mftool\n",
            "Successfully installed bs4-0.0.2 mftool-2.8\n"
          ]
        }
      ],
      "source": [
        "# To install the mftool library\n",
        "!pip install mftool==2.8"
      ]
    },
    {
      "cell_type": "code",
      "source": [
        "!pip install nsepy==0.8"
      ],
      "metadata": {
        "colab": {
          "base_uri": "https://localhost:8080/"
        },
        "id": "DDHMxHsYgWHm",
        "outputId": "0ff92b73-bf28-4c0f-f61f-d03b905f5896"
      },
      "execution_count": 3,
      "outputs": [
        {
          "output_type": "stream",
          "name": "stdout",
          "text": [
            "Collecting nsepy==0.8\n",
            "  Downloading nsepy-0.8.tar.gz (33 kB)\n",
            "  Preparing metadata (setup.py) ... \u001b[?25l\u001b[?25hdone\n",
            "Requirement already satisfied: beautifulsoup4 in /usr/local/lib/python3.10/dist-packages (from nsepy==0.8) (4.12.3)\n",
            "Requirement already satisfied: requests in /usr/local/lib/python3.10/dist-packages (from nsepy==0.8) (2.32.3)\n",
            "Requirement already satisfied: numpy in /usr/local/lib/python3.10/dist-packages (from nsepy==0.8) (1.26.4)\n",
            "Requirement already satisfied: pandas in /usr/local/lib/python3.10/dist-packages (from nsepy==0.8) (2.2.2)\n",
            "Requirement already satisfied: six in /usr/local/lib/python3.10/dist-packages (from nsepy==0.8) (1.16.0)\n",
            "Requirement already satisfied: click in /usr/local/lib/python3.10/dist-packages (from nsepy==0.8) (8.1.7)\n",
            "Requirement already satisfied: lxml in /usr/local/lib/python3.10/dist-packages (from nsepy==0.8) (5.3.0)\n",
            "Requirement already satisfied: soupsieve>1.2 in /usr/local/lib/python3.10/dist-packages (from beautifulsoup4->nsepy==0.8) (2.6)\n",
            "Requirement already satisfied: python-dateutil>=2.8.2 in /usr/local/lib/python3.10/dist-packages (from pandas->nsepy==0.8) (2.8.2)\n",
            "Requirement already satisfied: pytz>=2020.1 in /usr/local/lib/python3.10/dist-packages (from pandas->nsepy==0.8) (2024.2)\n",
            "Requirement already satisfied: tzdata>=2022.7 in /usr/local/lib/python3.10/dist-packages (from pandas->nsepy==0.8) (2024.2)\n",
            "Requirement already satisfied: charset-normalizer<4,>=2 in /usr/local/lib/python3.10/dist-packages (from requests->nsepy==0.8) (3.4.0)\n",
            "Requirement already satisfied: idna<4,>=2.5 in /usr/local/lib/python3.10/dist-packages (from requests->nsepy==0.8) (3.10)\n",
            "Requirement already satisfied: urllib3<3,>=1.21.1 in /usr/local/lib/python3.10/dist-packages (from requests->nsepy==0.8) (2.2.3)\n",
            "Requirement already satisfied: certifi>=2017.4.17 in /usr/local/lib/python3.10/dist-packages (from requests->nsepy==0.8) (2024.8.30)\n",
            "Building wheels for collected packages: nsepy\n",
            "  Building wheel for nsepy (setup.py) ... \u001b[?25l\u001b[?25hdone\n",
            "  Created wheel for nsepy: filename=nsepy-0.8-py3-none-any.whl size=36056 sha256=c5277b40f70142350597bb0becc247e91682a035b118d26ba819e2c80bdf1d66\n",
            "  Stored in directory: /root/.cache/pip/wheels/4c/87/cb/acaf83f625e5fc73e1fe6e2a8e97680c74cd72391850ef5a86\n",
            "Successfully built nsepy\n",
            "Installing collected packages: nsepy\n",
            "Successfully installed nsepy-0.8\n"
          ]
        }
      ]
    },
    {
      "cell_type": "code",
      "source": [
        "# https://medium.com/@TejasEkawade/getting-and-analyzing-mutual-funds-in-python-c2d0feb09881\n",
        "\n",
        "# List of all mutual funds and their latest NAV\n",
        "# https://www.amfiindia.com/spages/NAVAll.txt\n",
        "# 148725;INF204KB19Z5;INF204KC1014;NIPPON INDIA NIFTY MIDCAP 150 INDEX FUND - DIRECT Plan - IDCW Option;25.3024;30-Aug-2024\n",
        "# 138528;INF223J01NF2;-;PGIM India Global Equity Opportunities Fund - Direct Plan - Growth;47.78;30-Aug-2024\n",
        "# 127042;INF247L01445;-;Motilal Oswal Midcap Fund-Direct Plan-Growth Option;115.7794;30-Aug-2024\n",
        "\n",
        "import requests\n",
        "search_string = 'HSBC Asia Pacific'  # Replace with the string to search for\n",
        "url = 'https://www.amfiindia.com/spages/NAVAll.txt'  # Replace with the actual URL\n",
        "response = requests.get(url)\n",
        "page_content = response.text\n",
        "for line in page_content.splitlines():\n",
        "    if search_string in line:\n",
        "        print(line)\n",
        "\n",
        "import pandas as pd\n",
        "import numpy as np\n",
        "import datetime\n",
        "import matplotlib.pyplot as plt\n",
        "from mftool import Mftool\n",
        "import yfinance as yf\n",
        "\n",
        "\n",
        "mf = Mftool()\n",
        "# result = mf.get_available_schemes('hdfc')\n",
        "# for scheme_code, scheme in result.items():\n",
        "#     print(scheme_code, scheme)\n",
        "\n",
        "# Mutual Funds Analysis — Implementation\n",
        "# Part 1: Tabular Representation\n",
        "# Let’s pull data for multiple funds and save them as dataframes. These data frames will be saved in a dictionary.\n",
        "\n",
        "end_date = datetime.date.today()\n",
        "\n",
        "def fetch_mutual_fund_data(mutual_fund_code):\n",
        "    mf = Mftool()\n",
        "\n",
        "    df = (mf.get_scheme_historical_nav(mutual_fund_code,as_Dataframe=True).reset_index()\\\n",
        "          .assign(nav=lambda x: x['nav'].astype(float),\n",
        "                 date=lambda x: pd.to_datetime(x['date'], format='%d-%m-%Y'))\\\n",
        "          .sort_values('date')\\\n",
        "          .reset_index(drop=True)\\\n",
        "         )\n",
        "    return df\n",
        "\n",
        "def fetch_ticker(ticker_code):\n",
        "    # Download historical data using yfinance\n",
        "    #df = yf.download(ticker_code, period=\"1y\").reset_index()\n",
        "    df = yf.download(ticker_code).reset_index()\n",
        "    #print(df)\n",
        "    # Extract 'Open' values without multi-level index\n",
        "    nav_values = df['Close'][ticker_code]  # Access 'Open' and then 'MOVE'\n",
        "    date_values = df['Date'][ticker_code]  # Access 'Open' and then 'MOVE'\n",
        "    df = pd.DataFrame({\n",
        "    #'date': pd.to_datetime(df.index, unit='D'),  # Assuming index represents dates\n",
        "    'date': pd.to_datetime(df.index, unit='D'),  # Assuming index represents dates\n",
        "    'nav': nav_values  # Assign the extracted 'Open' values to 'Nav'\n",
        "    })\n",
        "    print(df)\n",
        "    #df['date'] = pd.to_datetime(df['date']).dt.strftime('%Y-%m-%d')\n",
        "    df = (df.assign(nav=lambda x: x['nav'].astype(float),\n",
        "          date=lambda x: pd.to_datetime(x['date'], format='%Y-%m-%d'))\\\n",
        "      .sort_values('date')\\\n",
        "      .reset_index(drop=True)\\\n",
        "      )\n",
        "    return df\n",
        "\n",
        "# Fetch data for these funds\n",
        "mutual_funds = {\n",
        "    '119063': 'Nifty 50'\n",
        "}\n",
        "\n",
        "# Define the ticker symbol for the MOVE index\n",
        "tickers = {\n",
        "    '^GSPC': 'S&P 500'\n",
        "}\n",
        "\n",
        "mf_data_dict = dict()\n",
        "\n",
        "for mutual_fund_code, mutual_fund_desc in mutual_funds.items():\n",
        "    print(mutual_fund_desc)\n",
        "    mf_data_dict[mutual_fund_desc] = fetch_mutual_fund_data(mutual_fund_code)\n",
        "# Next, create a function that computes the cumulative returns and CAGR. We are going to do this for 1 year, 2 years, and 3 years.\n",
        "\n",
        "for ticker_code, ticker_desc in tickers.items():\n",
        "    print(ticker_desc)\n",
        "    mf_data_dict[ticker_desc] = fetch_ticker(ticker_code)\n",
        "\n",
        "def get_cumulative_returns(df,\n",
        "                         nav_col='CLOSE',\n",
        "                         date_col='date',\n",
        "                         starting_date='1-1-2019',\n",
        "                         ending_date = end_date):\n",
        "    start_date = pd.to_datetime(starting_date, format='%d-%m-%Y')\n",
        "    end_date = pd.to_datetime(ending_date, format='%d-%m-%Y')\n",
        "\n",
        "    df = (df\\\n",
        "          .sort_values(date_col)\\\n",
        "          .query(f\"{date_col} >= @start_date and {date_col} <=@end_date\")\\\n",
        "          .assign(daily_returns=lambda x: x[nav_col].pct_change(),\n",
        "                  cumulative_daily_returns=lambda x: (x['daily_returns'] + 1).cumprod())\\\n",
        "          .reset_index(drop=True)\\\n",
        "         )\n",
        "    return df\n",
        "\n",
        "# We now pass our data — mutual funds and benchmark index — through the function to calculate metrics.\n",
        "\n",
        "time_periods = {\n",
        "    1: '1-1-2024'\n",
        "}\n",
        "results = []\n",
        "time_period_dataframes = {time_period: dict() for time_period in time_periods}\n",
        "\n",
        "# Mutual Funds data\n",
        "mutual_funds_subset = [\n",
        "    'Nifty 50',\n",
        "    'S&P 500'\n",
        "]\n",
        "for instrument_desc in mutual_funds_subset:\n",
        "    for time_period, starting_date in time_periods.items():\n",
        "        n_years = time_period\n",
        "        mutual_fund_data = mf_data_dict[instrument_desc].copy(deep=True)\n",
        "        #print(mutual_fund_data)\n",
        "        print(mutual_fund_data)\n",
        "        mf_with_cumulative = get_cumulative_returns(mutual_fund_data,\n",
        "                                                           nav_col='nav',\n",
        "                                                           date_col='date',\n",
        "                                                           starting_date=starting_date,\n",
        "                                                           ending_date = end_date)\n",
        "        print(mf_with_cumulative)\n",
        "        absolute_returns_prcnt = (mf_with_cumulative['cumulative_daily_returns'].values[-1] - 1) * 100\n",
        "        cagr = ((mf_with_cumulative['nav'].iloc[-1]/mf_with_cumulative['nav'].iloc[0]) ** (1/n_years) - 1) * 100\n",
        "\n",
        "        time_period_dataframes[time_period][instrument_desc] = mf_with_cumulative\n",
        "        results += [(instrument_desc, time_period, absolute_returns_prcnt, cagr)]\n",
        "\n",
        "# The results will be converted into a data frame.\n",
        "\n",
        "result_df = pd.DataFrame(results, columns=['Fund', 'Years', 'Abs_returns_prcnt', 'CAGR']).\\\n",
        "pivot(index='Fund', columns='Years', values=['Abs_returns_prcnt', 'CAGR'])\n",
        "result_df.columns = [f'{x}_{y}' for x, y in result_df.columns]\n",
        "result_df = result_df.map(lambda x: f\"{x:.2f}%\")\n",
        "\n",
        "time_period = 1\n",
        "\n",
        "for idx, (instrument_desc, instrument_data) in enumerate(time_period_dataframes[time_period].items()):\n",
        "    if idx == 0:\n",
        "        ax = instrument_data.plot(y='cumulative_daily_returns', x='date', label=instrument_desc)\n",
        "    else:\n",
        "        instrument_data.plot(ax = ax, y='cumulative_daily_returns', x='date', label=instrument_desc)\n",
        "\n",
        "plt.title(f\"Cumulative Returns - {time_periods[time_period]}-year comparison\")\n",
        "ax.legend(loc='upper left')\n",
        "plt.plot()"
      ],
      "metadata": {
        "colab": {
          "base_uri": "https://localhost:8080/",
          "height": 477
        },
        "id": "SSyMXI26k3GX",
        "outputId": "04e080b9-a650-4f84-9c85-b25945bbb440"
      },
      "execution_count": 111,
      "outputs": [
        {
          "output_type": "stream",
          "name": "stdout",
          "text": [
            "127073;INF336L01HC7;-;HSBC Asia Pacific (Ex Japan) Dividend Yield Fund - Growth;21.6861;13-Nov-2024\n",
            "127071;INF336L01HF0;-;HSBC Asia Pacific (Ex Japan) Dividend Yield Fund - Growth Direct;23.3476;13-Nov-2024\n",
            "127072;INF336L01HG8;INF336L01HH6;HSBC Asia Pacific IDCW Yield Fund Direct Plan IDCW;17.9894;13-Nov-2024\n",
            "127070;INF336L01HD5;INF336L01HE3;HSBC Asia Pacific IDCW Yield Fund IDCW;18.1176;13-Nov-2024\n",
            "Nifty 50\n",
            "S&P 500\n"
          ]
        },
        {
          "output_type": "stream",
          "name": "stderr",
          "text": [
            "\r[*********************100%***********************]  1 of 1 completed\n"
          ]
        },
        {
          "output_type": "error",
          "ename": "KeyError",
          "evalue": "'^GSPC'",
          "traceback": [
            "\u001b[0;31m---------------------------------------------------------------------------\u001b[0m",
            "\u001b[0;31mKeyError\u001b[0m                                  Traceback (most recent call last)",
            "\u001b[0;32m<ipython-input-111-a747469773a1>\u001b[0m in \u001b[0;36m<cell line: 87>\u001b[0;34m()\u001b[0m\n\u001b[1;32m     87\u001b[0m \u001b[0;32mfor\u001b[0m \u001b[0mticker_code\u001b[0m\u001b[0;34m,\u001b[0m \u001b[0mticker_desc\u001b[0m \u001b[0;32min\u001b[0m \u001b[0mtickers\u001b[0m\u001b[0;34m.\u001b[0m\u001b[0mitems\u001b[0m\u001b[0;34m(\u001b[0m\u001b[0;34m)\u001b[0m\u001b[0;34m:\u001b[0m\u001b[0;34m\u001b[0m\u001b[0;34m\u001b[0m\u001b[0m\n\u001b[1;32m     88\u001b[0m     \u001b[0mprint\u001b[0m\u001b[0;34m(\u001b[0m\u001b[0mticker_desc\u001b[0m\u001b[0;34m)\u001b[0m\u001b[0;34m\u001b[0m\u001b[0;34m\u001b[0m\u001b[0m\n\u001b[0;32m---> 89\u001b[0;31m     \u001b[0mmf_data_dict\u001b[0m\u001b[0;34m[\u001b[0m\u001b[0mticker_desc\u001b[0m\u001b[0;34m]\u001b[0m \u001b[0;34m=\u001b[0m \u001b[0mfetch_ticker\u001b[0m\u001b[0;34m(\u001b[0m\u001b[0mticker_code\u001b[0m\u001b[0;34m)\u001b[0m\u001b[0;34m\u001b[0m\u001b[0;34m\u001b[0m\u001b[0m\n\u001b[0m\u001b[1;32m     90\u001b[0m \u001b[0;34m\u001b[0m\u001b[0m\n\u001b[1;32m     91\u001b[0m def get_cumulative_returns(df,\n",
            "\u001b[0;32m<ipython-input-111-a747469773a1>\u001b[0m in \u001b[0;36mfetch_ticker\u001b[0;34m(ticker_code)\u001b[0m\n\u001b[1;32m     53\u001b[0m     \u001b[0;31m# Extract 'Open' values without multi-level index\u001b[0m\u001b[0;34m\u001b[0m\u001b[0;34m\u001b[0m\u001b[0m\n\u001b[1;32m     54\u001b[0m     \u001b[0mnav_values\u001b[0m \u001b[0;34m=\u001b[0m \u001b[0mdf\u001b[0m\u001b[0;34m[\u001b[0m\u001b[0;34m'Close'\u001b[0m\u001b[0;34m]\u001b[0m\u001b[0;34m[\u001b[0m\u001b[0mticker_code\u001b[0m\u001b[0;34m]\u001b[0m  \u001b[0;31m# Access 'Open' and then 'MOVE'\u001b[0m\u001b[0;34m\u001b[0m\u001b[0;34m\u001b[0m\u001b[0m\n\u001b[0;32m---> 55\u001b[0;31m     \u001b[0mdate_values\u001b[0m \u001b[0;34m=\u001b[0m \u001b[0mdf\u001b[0m\u001b[0;34m[\u001b[0m\u001b[0;34m'Date'\u001b[0m\u001b[0;34m]\u001b[0m\u001b[0;34m[\u001b[0m\u001b[0mticker_code\u001b[0m\u001b[0;34m]\u001b[0m  \u001b[0;31m# Access 'Open' and then 'MOVE'\u001b[0m\u001b[0;34m\u001b[0m\u001b[0;34m\u001b[0m\u001b[0m\n\u001b[0m\u001b[1;32m     56\u001b[0m     df = pd.DataFrame({\n\u001b[1;32m     57\u001b[0m     \u001b[0;31m#'date': pd.to_datetime(df.index, unit='D'),  # Assuming index represents dates\u001b[0m\u001b[0;34m\u001b[0m\u001b[0;34m\u001b[0m\u001b[0m\n",
            "\u001b[0;32m/usr/local/lib/python3.10/dist-packages/pandas/core/series.py\u001b[0m in \u001b[0;36m__getitem__\u001b[0;34m(self, key)\u001b[0m\n\u001b[1;32m   1119\u001b[0m \u001b[0;34m\u001b[0m\u001b[0m\n\u001b[1;32m   1120\u001b[0m         \u001b[0;32melif\u001b[0m \u001b[0mkey_is_scalar\u001b[0m\u001b[0;34m:\u001b[0m\u001b[0;34m\u001b[0m\u001b[0;34m\u001b[0m\u001b[0m\n\u001b[0;32m-> 1121\u001b[0;31m             \u001b[0;32mreturn\u001b[0m \u001b[0mself\u001b[0m\u001b[0;34m.\u001b[0m\u001b[0m_get_value\u001b[0m\u001b[0;34m(\u001b[0m\u001b[0mkey\u001b[0m\u001b[0;34m)\u001b[0m\u001b[0;34m\u001b[0m\u001b[0;34m\u001b[0m\u001b[0m\n\u001b[0m\u001b[1;32m   1122\u001b[0m \u001b[0;34m\u001b[0m\u001b[0m\n\u001b[1;32m   1123\u001b[0m         \u001b[0;31m# Convert generator to list before going through hashable part\u001b[0m\u001b[0;34m\u001b[0m\u001b[0;34m\u001b[0m\u001b[0m\n",
            "\u001b[0;32m/usr/local/lib/python3.10/dist-packages/pandas/core/series.py\u001b[0m in \u001b[0;36m_get_value\u001b[0;34m(self, label, takeable)\u001b[0m\n\u001b[1;32m   1235\u001b[0m \u001b[0;34m\u001b[0m\u001b[0m\n\u001b[1;32m   1236\u001b[0m         \u001b[0;31m# Similar to Index.get_value, but we do not fall back to positional\u001b[0m\u001b[0;34m\u001b[0m\u001b[0;34m\u001b[0m\u001b[0m\n\u001b[0;32m-> 1237\u001b[0;31m         \u001b[0mloc\u001b[0m \u001b[0;34m=\u001b[0m \u001b[0mself\u001b[0m\u001b[0;34m.\u001b[0m\u001b[0mindex\u001b[0m\u001b[0;34m.\u001b[0m\u001b[0mget_loc\u001b[0m\u001b[0;34m(\u001b[0m\u001b[0mlabel\u001b[0m\u001b[0;34m)\u001b[0m\u001b[0;34m\u001b[0m\u001b[0;34m\u001b[0m\u001b[0m\n\u001b[0m\u001b[1;32m   1238\u001b[0m \u001b[0;34m\u001b[0m\u001b[0m\n\u001b[1;32m   1239\u001b[0m         \u001b[0;32mif\u001b[0m \u001b[0mis_integer\u001b[0m\u001b[0;34m(\u001b[0m\u001b[0mloc\u001b[0m\u001b[0;34m)\u001b[0m\u001b[0;34m:\u001b[0m\u001b[0;34m\u001b[0m\u001b[0;34m\u001b[0m\u001b[0m\n",
            "\u001b[0;32m/usr/local/lib/python3.10/dist-packages/pandas/core/indexes/range.py\u001b[0m in \u001b[0;36mget_loc\u001b[0;34m(self, key)\u001b[0m\n\u001b[1;32m    415\u001b[0m                 \u001b[0;32mraise\u001b[0m \u001b[0mKeyError\u001b[0m\u001b[0;34m(\u001b[0m\u001b[0mkey\u001b[0m\u001b[0;34m)\u001b[0m \u001b[0;32mfrom\u001b[0m \u001b[0merr\u001b[0m\u001b[0;34m\u001b[0m\u001b[0;34m\u001b[0m\u001b[0m\n\u001b[1;32m    416\u001b[0m         \u001b[0;32mif\u001b[0m \u001b[0misinstance\u001b[0m\u001b[0;34m(\u001b[0m\u001b[0mkey\u001b[0m\u001b[0;34m,\u001b[0m \u001b[0mHashable\u001b[0m\u001b[0;34m)\u001b[0m\u001b[0;34m:\u001b[0m\u001b[0;34m\u001b[0m\u001b[0;34m\u001b[0m\u001b[0m\n\u001b[0;32m--> 417\u001b[0;31m             \u001b[0;32mraise\u001b[0m \u001b[0mKeyError\u001b[0m\u001b[0;34m(\u001b[0m\u001b[0mkey\u001b[0m\u001b[0;34m)\u001b[0m\u001b[0;34m\u001b[0m\u001b[0;34m\u001b[0m\u001b[0m\n\u001b[0m\u001b[1;32m    418\u001b[0m         \u001b[0mself\u001b[0m\u001b[0;34m.\u001b[0m\u001b[0m_check_indexing_error\u001b[0m\u001b[0;34m(\u001b[0m\u001b[0mkey\u001b[0m\u001b[0;34m)\u001b[0m\u001b[0;34m\u001b[0m\u001b[0;34m\u001b[0m\u001b[0m\n\u001b[1;32m    419\u001b[0m         \u001b[0;32mraise\u001b[0m \u001b[0mKeyError\u001b[0m\u001b[0;34m(\u001b[0m\u001b[0mkey\u001b[0m\u001b[0;34m)\u001b[0m\u001b[0;34m\u001b[0m\u001b[0;34m\u001b[0m\u001b[0m\n",
            "\u001b[0;31mKeyError\u001b[0m: '^GSPC'"
          ]
        }
      ]
    },
    {
      "cell_type": "code",
      "source": [
        "print (mf_data_dict['S&P 500']['date'])"
      ],
      "metadata": {
        "colab": {
          "base_uri": "https://localhost:8080/"
        },
        "id": "59NkuQZQHZVh",
        "outputId": "0c88ee60-040e-4051-95d4-375f8a435bc9"
      },
      "execution_count": 107,
      "outputs": [
        {
          "output_type": "stream",
          "name": "stdout",
          "text": [
            "0       1970-01-01\n",
            "1       1970-01-02\n",
            "2       1970-01-03\n",
            "3       1970-01-04\n",
            "4       1970-01-05\n",
            "           ...    \n",
            "24331   2036-08-13\n",
            "24332   2036-08-14\n",
            "24333   2036-08-15\n",
            "24334   2036-08-16\n",
            "24335   2036-08-17\n",
            "Name: date, Length: 24336, dtype: datetime64[ns]\n"
          ]
        }
      ]
    },
    {
      "cell_type": "code",
      "source": [],
      "metadata": {
        "id": "OZ1CVb6_h8ki",
        "outputId": "966b50ac-577d-4f30-ebf8-8f0cbd8e5458",
        "colab": {
          "base_uri": "https://localhost:8080/",
          "height": 731
        }
      },
      "execution_count": 79,
      "outputs": [
        {
          "output_type": "stream",
          "name": "stdout",
          "text": [
            "        date      nav  dayChange\n",
            "0 2013-01-01  51.3793        NaN\n",
            "1 2013-01-02  51.7411     0.3618\n",
            "2 2013-01-03  51.8788     0.1377\n",
            "3 2013-01-04  51.9355     0.0567\n",
            "4 2013-01-07  51.6972    -0.2383\n",
            "          date       nav  dayChange  daily_returns  cumulative_daily_returns\n",
            "0   2024-01-01  207.3522     0.0971            NaN                       NaN\n",
            "1   2024-01-02  206.6255    -0.7267      -0.003505                  0.996495\n",
            "2   2024-01-03  205.2085    -1.4170      -0.006858                  0.989662\n",
            "3   2024-01-04  206.5547     1.3462       0.006560                  0.996154\n",
            "4   2024-01-05  207.0511     0.4964       0.002403                  0.998548\n",
            "..         ...       ...        ...            ...                       ...\n",
            "210 2024-11-07  232.8305    -2.7229      -0.011560                  1.122875\n",
            "211 2024-11-08  232.3380    -0.4925      -0.002115                  1.120499\n",
            "212 2024-11-11  232.2676    -0.0704      -0.000303                  1.120160\n",
            "213 2024-11-12  229.7877    -2.4799      -0.010677                  1.108200\n",
            "214 2024-11-13  226.6671    -3.1206      -0.013580                  1.093150\n",
            "\n",
            "[215 rows x 5 columns]\n",
            "        date         nav\n",
            "0 1970-01-01  124.470001\n",
            "1 1970-01-02  124.110001\n",
            "2 1970-01-03  122.190002\n",
            "3 1970-01-04  116.080002\n",
            "4 1970-01-05  116.080002\n",
            "Empty DataFrame\n",
            "Columns: [date, nav, daily_returns, cumulative_daily_returns]\n",
            "Index: []\n"
          ]
        },
        {
          "output_type": "error",
          "ename": "IndexError",
          "evalue": "index -1 is out of bounds for axis 0 with size 0",
          "traceback": [
            "\u001b[0;31m---------------------------------------------------------------------------\u001b[0m",
            "\u001b[0;31mIndexError\u001b[0m                                Traceback (most recent call last)",
            "\u001b[0;32m<ipython-input-79-c5d5e7230b9c>\u001b[0m in \u001b[0;36m<cell line: 6>\u001b[0;34m()\u001b[0m\n\u001b[1;32m     16\u001b[0m                                                            ending_date = end_date)\n\u001b[1;32m     17\u001b[0m         \u001b[0mprint\u001b[0m\u001b[0;34m(\u001b[0m\u001b[0mmf_with_cumulative\u001b[0m\u001b[0;34m)\u001b[0m\u001b[0;34m\u001b[0m\u001b[0;34m\u001b[0m\u001b[0m\n\u001b[0;32m---> 18\u001b[0;31m         \u001b[0mabsolute_returns_prcnt\u001b[0m \u001b[0;34m=\u001b[0m \u001b[0;34m(\u001b[0m\u001b[0mmf_with_cumulative\u001b[0m\u001b[0;34m[\u001b[0m\u001b[0;34m'cumulative_daily_returns'\u001b[0m\u001b[0;34m]\u001b[0m\u001b[0;34m.\u001b[0m\u001b[0mvalues\u001b[0m\u001b[0;34m[\u001b[0m\u001b[0;34m-\u001b[0m\u001b[0;36m1\u001b[0m\u001b[0;34m]\u001b[0m \u001b[0;34m-\u001b[0m \u001b[0;36m1\u001b[0m\u001b[0;34m)\u001b[0m \u001b[0;34m*\u001b[0m \u001b[0;36m100\u001b[0m\u001b[0;34m\u001b[0m\u001b[0;34m\u001b[0m\u001b[0m\n\u001b[0m\u001b[1;32m     19\u001b[0m         \u001b[0mcagr\u001b[0m \u001b[0;34m=\u001b[0m \u001b[0;34m(\u001b[0m\u001b[0;34m(\u001b[0m\u001b[0mmf_with_cumulative\u001b[0m\u001b[0;34m[\u001b[0m\u001b[0;34m'nav'\u001b[0m\u001b[0;34m]\u001b[0m\u001b[0;34m.\u001b[0m\u001b[0miloc\u001b[0m\u001b[0;34m[\u001b[0m\u001b[0;34m-\u001b[0m\u001b[0;36m1\u001b[0m\u001b[0;34m]\u001b[0m\u001b[0;34m/\u001b[0m\u001b[0mmf_with_cumulative\u001b[0m\u001b[0;34m[\u001b[0m\u001b[0;34m'nav'\u001b[0m\u001b[0;34m]\u001b[0m\u001b[0;34m.\u001b[0m\u001b[0miloc\u001b[0m\u001b[0;34m[\u001b[0m\u001b[0;36m0\u001b[0m\u001b[0;34m]\u001b[0m\u001b[0;34m)\u001b[0m \u001b[0;34m**\u001b[0m \u001b[0;34m(\u001b[0m\u001b[0;36m1\u001b[0m\u001b[0;34m/\u001b[0m\u001b[0mn_years\u001b[0m\u001b[0;34m)\u001b[0m \u001b[0;34m-\u001b[0m \u001b[0;36m1\u001b[0m\u001b[0;34m)\u001b[0m \u001b[0;34m*\u001b[0m \u001b[0;36m100\u001b[0m\u001b[0;34m\u001b[0m\u001b[0;34m\u001b[0m\u001b[0m\n\u001b[1;32m     20\u001b[0m \u001b[0;34m\u001b[0m\u001b[0m\n",
            "\u001b[0;31mIndexError\u001b[0m: index -1 is out of bounds for axis 0 with size 0"
          ]
        }
      ]
    }
  ]
}